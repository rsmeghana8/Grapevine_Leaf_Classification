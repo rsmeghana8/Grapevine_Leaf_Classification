{
 "cells": [
  {
   "cell_type": "code",
   "execution_count": 1,
   "metadata": {},
   "outputs": [
    {
     "data": {
      "text/plain": [
       "'/home/megh/AI/Projects/Grapevine_Leaf_Classification'"
      ]
     },
     "execution_count": 1,
     "metadata": {},
     "output_type": "execute_result"
    }
   ],
   "source": [
    "import os\n",
    "os.chdir(\"../\")\n",
    "%pwd"
   ]
  },
  {
   "cell_type": "code",
   "execution_count": 2,
   "metadata": {},
   "outputs": [
    {
     "data": {
      "text/plain": [
       "'/home/megh/AI/Projects/Grapevine_Leaf_Classification'"
      ]
     },
     "execution_count": 2,
     "metadata": {},
     "output_type": "execute_result"
    }
   ],
   "source": [
    "%pwd"
   ]
  },
  {
   "cell_type": "code",
   "execution_count": 3,
   "metadata": {},
   "outputs": [
    {
     "name": "stderr",
     "output_type": "stream",
     "text": [
      "2023-09-15 22:46:44.182193: I tensorflow/core/platform/cpu_feature_guard.cc:182] This TensorFlow binary is optimized to use available CPU instructions in performance-critical operations.\n",
      "To enable the following instructions: AVX2 FMA, in other operations, rebuild TensorFlow with the appropriate compiler flags.\n",
      "2023-09-15 22:46:45.161992: W tensorflow/compiler/tf2tensorrt/utils/py_utils.cc:38] TF-TRT Warning: Could not find TensorRT\n"
     ]
    }
   ],
   "source": [
    "import tensorflow as tf"
   ]
  },
  {
   "cell_type": "code",
   "execution_count": 4,
   "metadata": {},
   "outputs": [],
   "source": [
    "#model = tf.keras.models.load_model(\"artifacts/training/model.h5\")"
   ]
  },
  {
   "cell_type": "code",
   "execution_count": 5,
   "metadata": {},
   "outputs": [],
   "source": [
    "from tensorflow.keras.preprocessing import image \n"
   ]
  },
  {
   "cell_type": "code",
   "execution_count": 6,
   "metadata": {},
   "outputs": [],
   "source": [
    "import numpy as np"
   ]
  },
  {
   "cell_type": "code",
   "execution_count": 7,
   "metadata": {},
   "outputs": [],
   "source": [
    "#imagename = '/home/megh/AI/Projects/Grapevine_Leaf_Classification/test2.png'"
   ]
  },
  {
   "cell_type": "code",
   "execution_count": 8,
   "metadata": {},
   "outputs": [],
   "source": [
    "#test_image = image.load_img(imagename, target_size = (224,224))\n",
    "#test_image = image.img_to_array(test_image)\n",
    "#test_image = np.expand_dims(test_image, axis = 0)\n",
    "#result = np.argmax(model.predict(test_image), axis=1)"
   ]
  },
  {
   "cell_type": "code",
   "execution_count": 10,
   "metadata": {},
   "outputs": [
    {
     "name": "stdout",
     "output_type": "stream",
     "text": [
      "image belongs to the family Ak\n"
     ]
    }
   ],
   "source": [
    "class_names = ['Ak', 'Ala_idris', 'Buzgulu', 'Dimnit,Nazil']\n",
    "print(f\"image belongs to the family {class_names[result[0]]}\")"
   ]
  },
  {
   "cell_type": "code",
   "execution_count": 11,
   "metadata": {},
   "outputs": [
    {
     "data": {
      "text/plain": [
       "0"
      ]
     },
     "execution_count": 11,
     "metadata": {},
     "output_type": "execute_result"
    }
   ],
   "source": [
    "result[0]"
   ]
  },
  {
   "cell_type": "code",
   "execution_count": 12,
   "metadata": {},
   "outputs": [
    {
     "name": "stdout",
     "output_type": "stream",
     "text": [
      "[0]\n"
     ]
    }
   ],
   "source": [
    "print(result)"
   ]
  },
  {
   "cell_type": "code",
   "execution_count": 10,
   "metadata": {},
   "outputs": [],
   "source": [
    "from dataclasses import dataclass\n",
    "from pathlib import Path   \n",
    "\n",
    "@dataclass(frozen=True)\n",
    "class EvaluationConfig:\n",
    "    path_of_model: Path\n",
    "    training_data: Path\n",
    "    all_params: dict\n",
    "    params_image_size: list\n",
    "    params_batch_size: int\n"
   ]
  },
  {
   "cell_type": "code",
   "execution_count": 11,
   "metadata": {},
   "outputs": [],
   "source": [
    "from CNNClassifier.constants import *\n",
    "from CNNClassifier.utils.common import read_yaml, create_directories, save_json   "
   ]
  },
  {
   "cell_type": "code",
   "execution_count": 12,
   "metadata": {},
   "outputs": [],
   "source": [
    "class ConfigurationManager:\n",
    "    def __init__(self,\n",
    "                 config_file_path= CONFIG_FILE_PATH,\n",
    "                 params_file_path= PARAMS_FILE_PATH):\n",
    "\n",
    "                 self.config = read_yaml(config_file_path)\n",
    "                 self.params = read_yaml(params_file_path)\n",
    "\n",
    "                 create_directories([self.config.artifacts_root])\n",
    "\n",
    "\n",
    "    def get_validation_config(self)-> EvaluationConfig :\n",
    "            eval_config = EvaluationConfig(\n",
    "                    \n",
    "                    path_of_model=\"artifacts/training/model.h5\",\n",
    "                    training_data = \"artifacts/data_ingestion/Grapevine_Leaves_Image_Dataset\",\n",
    "                    all_params= self.params,\n",
    "                    params_image_size= self.params.IMAGE_SIZE,\n",
    "                    params_batch_size = self.params.BATCH_SIZE\n",
    "                                    )\n",
    "            return eval_config"
   ]
  },
  {
   "cell_type": "code",
   "execution_count": 13,
   "metadata": {},
   "outputs": [],
   "source": [
    "from urllib.parse import urlparse\n",
    "import math\n",
    "import seaborn as sns\n",
    "import matplotlib.pyplot as plt"
   ]
  },
  {
   "cell_type": "code",
   "execution_count": 39,
   "metadata": {},
   "outputs": [],
   "source": [
    "class Evaluation:\n",
    "    def __init__(self, config: EvaluationConfig):\n",
    "        self.config = config\n",
    "        self.test_labels = []\n",
    "        self.labels = ['Ak', 'Ala_idris', 'Buzgulu', 'Dimnit','Nazil']\n",
    "\n",
    "\n",
    "    \n",
    "    def _valid_generator(self):\n",
    "\n",
    "        datagenerator_kwargs = dict(\n",
    "            rescale = 1./255,\n",
    "            validation_split=0.30\n",
    "        )\n",
    "\n",
    "        dataflow_kwargs = dict(\n",
    "            target_size=self.config.params_image_size[:-1],\n",
    "            batch_size=self.config.params_batch_size,\n",
    "            interpolation=\"bilinear\"\n",
    "        )\n",
    "\n",
    "        valid_datagenerator = tf.keras.preprocessing.image.ImageDataGenerator(\n",
    "            **datagenerator_kwargs\n",
    "        )\n",
    "\n",
    "\n",
    "\n",
    "\n",
    "        self.valid_generator = valid_datagenerator.flow_from_directory(\n",
    "            directory=self.config.training_data,\n",
    "            subset=\"validation\",\n",
    "            shuffle=False,\n",
    "            **dataflow_kwargs\n",
    "        )\n",
    "\n",
    "        number_of_examples = len(self.valid_generator.filenames)\n",
    "        number_of_generator_calls = math.ceil(number_of_examples / (1.0 * 16)) \n",
    "\n",
    "\n",
    "        for i in range(0,int(number_of_generator_calls)):\n",
    "            self.test_labels.extend(np.array(self.valid_generator[i][1]))\n",
    "\n",
    "\n",
    "    @staticmethod\n",
    "    def load_model(path: Path) -> tf.keras.Model:\n",
    "        return tf.keras.models.load_model(path)\n",
    "    \n",
    "    \n",
    "\n",
    "    def evaluation(self):\n",
    "        self.model = self.load_model(self.config.path_of_model)\n",
    "        self._valid_generator()\n",
    "        self.score = self.model.evaluate(self.valid_generator)\n",
    "        predicted = self.model.predict(self.valid_generator)\n",
    "\n",
    "        self.predicted = tf.concat(predicted, axis=0)\n",
    "        self.predicted = tf.argmax(predicted, axis=1)\n",
    "\n",
    "        #self.test_labels = tf.concat(self.test_labels, axis=0)\n",
    "        #self.actual = tf.argmax(self.test_labels, axis=1)\n",
    "\n",
    "    \n",
    "    def save_score(self):\n",
    "        scores = {\"loss\": self.score[0], \"accuracy\": self.score[1]}\n",
    "        save_json(path=Path(\"scores.json\"), data=scores)\n",
    "\n",
    "    def plot_cm(self):\n",
    "        self.actual = tf.argmax(self.test_labels, axis=1)\n",
    "        cm = tf.math.confusion_matrix(self.actual, self.predicted)\n",
    "        ax = sns.heatmap(cm, annot=True, fmt='g')\n",
    "        sns.set(rc={'figure.figsize':(12, 12)})\n",
    "        sns.set(font_scale=1.4)\n",
    "        ax.set_title('Confusion matrix of action recognition for ' + 'validation')\n",
    "        ax.set_xlabel('Predicted Action')\n",
    "        ax.set_ylabel('Actual Action')\n",
    "        plt.xticks(rotation=90)\n",
    "        plt.yticks(rotation=0)\n",
    "        ax.xaxis.set_ticklabels(self.labels)\n",
    "        ax.yaxis.set_ticklabels(self.labels)\n",
    "\n",
    "    def metrics(self):\n",
    "        self.actual = tf.argmax(self.test_labels, axis=1)\n",
    "\n",
    "        cm = tf.math.confusion_matrix(self.actual, self.predicted)\n",
    "        tp = np.diag(cm) # Diagonal represents true positives\n",
    "        precision = dict()\n",
    "        recall = dict()\n",
    "        for i in range(len(self.labels)):\n",
    "          col = cm[:, i]\n",
    "          fp = np.sum(col) - tp[i] # Sum of column minus true positive is false negative\n",
    "      \n",
    "          row = cm[i, :]\n",
    "          fn = np.sum(row) - tp[i] # Sum of row minus true positive, is false negative\n",
    "      \n",
    "          precision[self.labels[i]] = tp[i] / (tp[i] + fp) # Precision \n",
    "      \n",
    "          recall[self.labels[i]] = tp[i] / (tp[i] + fn) # Recall\n",
    "      \n",
    "        return precision, recall\n",
    "\n",
    "\n",
    "\n",
    "    "
   ]
  },
  {
   "cell_type": "code",
   "execution_count": 40,
   "metadata": {},
   "outputs": [
    {
     "name": "stdout",
     "output_type": "stream",
     "text": [
      "[2023-09-15 23:04:34,784: INFO: common: yaml fileconfig/config.yamlloaded Successfully]\n",
      "[2023-09-15 23:04:34,786: INFO: common: yaml fileparams.yamlloaded Successfully]\n",
      "[2023-09-15 23:04:34,787: INFO: common: created directory at:artifacts]\n",
      "Found 150 images belonging to 5 classes.\n",
      "10/10 [==============================] - 1s 78ms/step - loss: 0.4640 - accuracy: 0.8667\n",
      "10/10 [==============================] - 1s 81ms/step\n"
     ]
    }
   ],
   "source": [
    "config = ConfigurationManager()\n",
    "val_config = config.get_validation_config()\n",
    "evaluation = Evaluation(val_config)\n",
    "evaluation.evaluation()"
   ]
  },
  {
   "cell_type": "code",
   "execution_count": 41,
   "metadata": {},
   "outputs": [
    {
     "data": {
      "text/plain": [
       "({'Ak': 0.896551724137931,\n",
       "  'Ala_idris': 0.9130434782608695,\n",
       "  'Buzgulu': 0.725,\n",
       "  'Dimnit': 0.9629629629629629,\n",
       "  'Nazil': 0.9032258064516129},\n",
       " {'Ak': 0.8666666666666667,\n",
       "  'Ala_idris': 0.7,\n",
       "  'Buzgulu': 0.9666666666666667,\n",
       "  'Dimnit': 0.8666666666666667,\n",
       "  'Nazil': 0.9333333333333333})"
      ]
     },
     "execution_count": 41,
     "metadata": {},
     "output_type": "execute_result"
    }
   ],
   "source": [
    "evaluation.metrics()"
   ]
  },
  {
   "cell_type": "code",
   "execution_count": 35,
   "metadata": {},
   "outputs": [
    {
     "data": {
      "image/png": "[encoded data removed]",
      "text/plain": [
       "<Figure size 1200x1200 with 2 Axes>"
      ]
     },
     "metadata": {},
     "output_type": "display_data"
    }
   ],
   "source": [
    "evaluation.plot_cm()"
   ]
  },
  {
   "cell_type": "code",
   "execution_count": 24,
   "metadata": {},
   "outputs": [
    {
     "ename": "InvalidArgumentError",
     "evalue": "{{function_node __wrapped__ArgMax_device_/job:localhost/replica:0/task:0/device:GPU:0}} Expected dimension in the range [-1, 1), but got 1 [Op:ArgMax] name: ",
     "output_type": "error",
     "traceback": [
      "\u001b[0;31m---------------------------------------------------------------------------\u001b[0m",
      "\u001b[0;31mInvalidArgumentError\u001b[0m                      Traceback (most recent call last)",
      "\u001b[1;32m/home/megh/AI/Projects/Grapevine_Leaf_Classification/research/05_model_evaluation.ipynb Cell 18\u001b[0m line \u001b[0;36m1\n\u001b[0;32m----> <a href='vscode-notebook-cell:/home/megh/AI/Projects/Grapevine_Leaf_Classification/research/05_model_evaluation.ipynb#X33sZmlsZQ%3D%3D?line=0'>1</a>\u001b[0m evaluation\u001b[39m.\u001b[39;49mplot_cm()\n",
      "\u001b[1;32m/home/megh/AI/Projects/Grapevine_Leaf_Classification/research/05_model_evaluation.ipynb Cell 18\u001b[0m line \u001b[0;36m6\n\u001b[1;32m     <a href='vscode-notebook-cell:/home/megh/AI/Projects/Grapevine_Leaf_Classification/research/05_model_evaluation.ipynb#X33sZmlsZQ%3D%3D?line=65'>66</a>\u001b[0m labels \u001b[39m=\u001b[39m [\u001b[39m'\u001b[39m\u001b[39mAk\u001b[39m\u001b[39m'\u001b[39m, \u001b[39m'\u001b[39m\u001b[39mAla_idris\u001b[39m\u001b[39m'\u001b[39m, \u001b[39m'\u001b[39m\u001b[39mBuzgulu\u001b[39m\u001b[39m'\u001b[39m, \u001b[39m'\u001b[39m\u001b[39mDimnit,Nazil\u001b[39m\u001b[39m'\u001b[39m]\n\u001b[1;32m     <a href='vscode-notebook-cell:/home/megh/AI/Projects/Grapevine_Leaf_Classification/research/05_model_evaluation.ipynb#X33sZmlsZQ%3D%3D?line=66'>67</a>\u001b[0m \u001b[39mself\u001b[39m\u001b[39m.\u001b[39mactual \u001b[39m=\u001b[39m tf\u001b[39m.\u001b[39mconcat(\u001b[39mself\u001b[39m\u001b[39m.\u001b[39mtest_labels, axis\u001b[39m=\u001b[39m\u001b[39m0\u001b[39m)\n\u001b[0;32m---> <a href='vscode-notebook-cell:/home/megh/AI/Projects/Grapevine_Leaf_Classification/research/05_model_evaluation.ipynb#X33sZmlsZQ%3D%3D?line=67'>68</a>\u001b[0m \u001b[39mself\u001b[39m\u001b[39m.\u001b[39mactual \u001b[39m=\u001b[39m tf\u001b[39m.\u001b[39;49margmax(\u001b[39mself\u001b[39;49m\u001b[39m.\u001b[39;49mactual, axis\u001b[39m=\u001b[39;49m\u001b[39m1\u001b[39;49m)\n\u001b[1;32m     <a href='vscode-notebook-cell:/home/megh/AI/Projects/Grapevine_Leaf_Classification/research/05_model_evaluation.ipynb#X33sZmlsZQ%3D%3D?line=68'>69</a>\u001b[0m cm \u001b[39m=\u001b[39m tf\u001b[39m.\u001b[39mmath\u001b[39m.\u001b[39mconfusion_matrix(\u001b[39mself\u001b[39m\u001b[39m.\u001b[39mactual, \u001b[39mself\u001b[39m\u001b[39m.\u001b[39mpredicted)\n\u001b[1;32m     <a href='vscode-notebook-cell:/home/megh/AI/Projects/Grapevine_Leaf_Classification/research/05_model_evaluation.ipynb#X33sZmlsZQ%3D%3D?line=69'>70</a>\u001b[0m ax \u001b[39m=\u001b[39m sns\u001b[39m.\u001b[39mheatmap(cm, annot\u001b[39m=\u001b[39m\u001b[39mTrue\u001b[39;00m, fmt\u001b[39m=\u001b[39m\u001b[39m'\u001b[39m\u001b[39mg\u001b[39m\u001b[39m'\u001b[39m)\n",
      "File \u001b[0;32m~/AI/Projects/Grapevine_Leaf_Classification/cnncls/lib/python3.8/site-packages/tensorflow/python/util/traceback_utils.py:153\u001b[0m, in \u001b[0;36mfilter_traceback.<locals>.error_handler\u001b[0;34m(*args, **kwargs)\u001b[0m\n\u001b[1;32m    151\u001b[0m \u001b[39mexcept\u001b[39;00m \u001b[39mException\u001b[39;00m \u001b[39mas\u001b[39;00m e:\n\u001b[1;32m    152\u001b[0m   filtered_tb \u001b[39m=\u001b[39m _process_traceback_frames(e\u001b[39m.\u001b[39m__traceback__)\n\u001b[0;32m--> 153\u001b[0m   \u001b[39mraise\u001b[39;00m e\u001b[39m.\u001b[39mwith_traceback(filtered_tb) \u001b[39mfrom\u001b[39;00m \u001b[39mNone\u001b[39;00m\n\u001b[1;32m    154\u001b[0m \u001b[39mfinally\u001b[39;00m:\n\u001b[1;32m    155\u001b[0m   \u001b[39mdel\u001b[39;00m filtered_tb\n",
      "File \u001b[0;32m~/AI/Projects/Grapevine_Leaf_Classification/cnncls/lib/python3.8/site-packages/tensorflow/python/framework/ops.py:6656\u001b[0m, in \u001b[0;36mraise_from_not_ok_status\u001b[0;34m(e, name)\u001b[0m\n\u001b[1;32m   6654\u001b[0m \u001b[39mdef\u001b[39;00m \u001b[39mraise_from_not_ok_status\u001b[39m(e, name):\n\u001b[1;32m   6655\u001b[0m   e\u001b[39m.\u001b[39mmessage \u001b[39m+\u001b[39m\u001b[39m=\u001b[39m (\u001b[39m\"\u001b[39m\u001b[39m name: \u001b[39m\u001b[39m\"\u001b[39m \u001b[39m+\u001b[39m \u001b[39mstr\u001b[39m(name \u001b[39mif\u001b[39;00m name \u001b[39mis\u001b[39;00m \u001b[39mnot\u001b[39;00m \u001b[39mNone\u001b[39;00m \u001b[39melse\u001b[39;00m \u001b[39m\"\u001b[39m\u001b[39m\"\u001b[39m))\n\u001b[0;32m-> 6656\u001b[0m   \u001b[39mraise\u001b[39;00m core\u001b[39m.\u001b[39m_status_to_exception(e) \u001b[39mfrom\u001b[39;00m \u001b[39mNone\u001b[39;00m\n",
      "\u001b[0;31mInvalidArgumentError\u001b[0m: {{function_node __wrapped__ArgMax_device_/job:localhost/replica:0/task:0/device:GPU:0}} Expected dimension in the range [-1, 1), but got 1 [Op:ArgMax] name: "
     ]
    }
   ],
   "source": [
    "evaluation.plot_cm()\n"
   ]
  },
  {
   "cell_type": "code",
   "execution_count": null,
   "metadata": {},
   "outputs": [],
   "source": []
  },
  {
   "cell_type": "code",
   "execution_count": 29,
   "metadata": {},
   "outputs": [
    {
     "data": {
      "text/plain": [
       "<tf.Tensor: shape=(150,), dtype=int64, numpy=\n",
       "array([0, 0, 0, 0, 0, 0, 0, 0, 0, 0, 0, 0, 0, 0, 0, 0, 0, 0, 0, 0, 0, 0,\n",
       "       0, 0, 0, 0, 0, 0, 0, 0, 1, 1, 1, 1, 1, 1, 1, 1, 1, 1, 1, 1, 1, 1,\n",
       "       1, 1, 1, 1, 1, 1, 1, 1, 1, 1, 1, 1, 1, 1, 1, 1, 2, 2, 2, 2, 2, 2,\n",
       "       2, 2, 2, 2, 2, 2, 2, 2, 2, 2, 2, 2, 2, 2, 2, 2, 2, 2, 2, 2, 2, 2,\n",
       "       2, 2, 3, 3, 3, 3, 3, 3, 3, 3, 3, 3, 3, 3, 3, 3, 3, 3, 3, 3, 3, 3,\n",
       "       3, 3, 3, 3, 3, 3, 3, 3, 3, 3, 4, 4, 4, 4, 4, 4, 4, 4, 4, 4, 4, 4,\n",
       "       4, 4, 4, 4, 4, 4, 4, 4, 4, 4, 4, 4, 4, 4, 4, 4, 4, 4])>"
      ]
     },
     "execution_count": 29,
     "metadata": {},
     "output_type": "execute_result"
    }
   ],
   "source": [
    "test = evaluation.test_labels\n",
    "test_1 = tf.argmax(test,axis =1)\n",
    "test_1"
   ]
  },
  {
   "cell_type": "code",
   "execution_count": 28,
   "metadata": {},
   "outputs": [
    {
     "ename": "InvalidArgumentError",
     "evalue": "{{function_node __wrapped__ArgMax_device_/job:localhost/replica:0/task:0/device:GPU:0}} Expected dimension in the range [-1, 1), but got 1 [Op:ArgMax] name: ",
     "output_type": "error",
     "traceback": [
      "\u001b[0;31m---------------------------------------------------------------------------\u001b[0m",
      "\u001b[0;31mInvalidArgumentError\u001b[0m                      Traceback (most recent call last)",
      "\u001b[1;32m/home/megh/AI/Projects/Grapevine_Leaf_Classification/research/05_model_evaluation.ipynb Cell 22\u001b[0m line \u001b[0;36m1\n\u001b[0;32m----> <a href='vscode-notebook-cell:/home/megh/AI/Projects/Grapevine_Leaf_Classification/research/05_model_evaluation.ipynb#X25sZmlsZQ%3D%3D?line=0'>1</a>\u001b[0m tf\u001b[39m.\u001b[39;49margmax( test_1, axis\u001b[39m=\u001b[39;49m\u001b[39m1\u001b[39;49m)\n",
      "File \u001b[0;32m~/AI/Projects/Grapevine_Leaf_Classification/cnncls/lib/python3.8/site-packages/tensorflow/python/util/traceback_utils.py:153\u001b[0m, in \u001b[0;36mfilter_traceback.<locals>.error_handler\u001b[0;34m(*args, **kwargs)\u001b[0m\n\u001b[1;32m    151\u001b[0m \u001b[39mexcept\u001b[39;00m \u001b[39mException\u001b[39;00m \u001b[39mas\u001b[39;00m e:\n\u001b[1;32m    152\u001b[0m   filtered_tb \u001b[39m=\u001b[39m _process_traceback_frames(e\u001b[39m.\u001b[39m__traceback__)\n\u001b[0;32m--> 153\u001b[0m   \u001b[39mraise\u001b[39;00m e\u001b[39m.\u001b[39mwith_traceback(filtered_tb) \u001b[39mfrom\u001b[39;00m \u001b[39mNone\u001b[39;00m\n\u001b[1;32m    154\u001b[0m \u001b[39mfinally\u001b[39;00m:\n\u001b[1;32m    155\u001b[0m   \u001b[39mdel\u001b[39;00m filtered_tb\n",
      "File \u001b[0;32m~/AI/Projects/Grapevine_Leaf_Classification/cnncls/lib/python3.8/site-packages/tensorflow/python/framework/ops.py:6656\u001b[0m, in \u001b[0;36mraise_from_not_ok_status\u001b[0;34m(e, name)\u001b[0m\n\u001b[1;32m   6654\u001b[0m \u001b[39mdef\u001b[39;00m \u001b[39mraise_from_not_ok_status\u001b[39m(e, name):\n\u001b[1;32m   6655\u001b[0m   e\u001b[39m.\u001b[39mmessage \u001b[39m+\u001b[39m\u001b[39m=\u001b[39m (\u001b[39m\"\u001b[39m\u001b[39m name: \u001b[39m\u001b[39m\"\u001b[39m \u001b[39m+\u001b[39m \u001b[39mstr\u001b[39m(name \u001b[39mif\u001b[39;00m name \u001b[39mis\u001b[39;00m \u001b[39mnot\u001b[39;00m \u001b[39mNone\u001b[39;00m \u001b[39melse\u001b[39;00m \u001b[39m\"\u001b[39m\u001b[39m\"\u001b[39m))\n\u001b[0;32m-> 6656\u001b[0m   \u001b[39mraise\u001b[39;00m core\u001b[39m.\u001b[39m_status_to_exception(e) \u001b[39mfrom\u001b[39;00m \u001b[39mNone\u001b[39;00m\n",
      "\u001b[0;31mInvalidArgumentError\u001b[0m: {{function_node __wrapped__ArgMax_device_/job:localhost/replica:0/task:0/device:GPU:0}} Expected dimension in the range [-1, 1), but got 1 [Op:ArgMax] name: "
     ]
    }
   ],
   "source": [
    "tf.argmax( test_1, axis=1)"
   ]
  },
  {
   "cell_type": "code",
   "execution_count": 36,
   "metadata": {},
   "outputs": [
    {
     "data": {
      "text/plain": [
       "<tf.Tensor: shape=(150,), dtype=int64, numpy=\n",
       "array([2, 0, 0, 0, 0, 0, 2, 0, 0, 0, 0, 0, 0, 0, 0, 0, 1, 0, 0, 0, 0, 0,\n",
       "       0, 0, 1, 0, 0, 0, 0, 0, 1, 2, 1, 4, 1, 1, 1, 0, 2, 2, 4, 2, 1, 0,\n",
       "       1, 1, 1, 2, 1, 1, 1, 1, 1, 1, 1, 1, 1, 1, 1, 1, 2, 2, 2, 2, 2, 2,\n",
       "       3, 2, 2, 2, 2, 2, 2, 2, 2, 2, 2, 2, 2, 2, 2, 2, 2, 2, 2, 2, 2, 2,\n",
       "       2, 2, 3, 3, 3, 3, 3, 3, 4, 3, 3, 3, 3, 3, 3, 3, 3, 3, 3, 3, 2, 3,\n",
       "       3, 3, 3, 2, 3, 3, 3, 0, 3, 3, 4, 4, 4, 4, 4, 4, 4, 2, 4, 2, 4, 4,\n",
       "       4, 4, 4, 4, 4, 4, 4, 4, 4, 4, 4, 4, 4, 4, 4, 4, 4, 4])>"
      ]
     },
     "execution_count": 36,
     "metadata": {},
     "output_type": "execute_result"
    }
   ],
   "source": [
    "evaluation.predicted\n"
   ]
  },
  {
   "cell_type": "code",
   "execution_count": 18,
   "metadata": {},
   "outputs": [
    {
     "ename": "SyntaxError",
     "evalue": "invalid syntax (4167314880.py, line 1)",
     "output_type": "error",
     "traceback": [
      "\u001b[0;36m  Cell \u001b[0;32mIn[18], line 1\u001b[0;36m\u001b[0m\n\u001b[0;31m    test_batches = ImageDataGenerator().flow_from_directory(.., batch_size=n)\u001b[0m\n\u001b[0m                                                            ^\u001b[0m\n\u001b[0;31mSyntaxError\u001b[0m\u001b[0;31m:\u001b[0m invalid syntax\n"
     ]
    }
   ],
   "source": [
    "test_batches = ImageDataGenerator().flow_from_directory(.., batch_size=n)\n",
    "number_of_examples = len(test_batches.filenames)\n",
    "number_of_generator_calls = math.ceil(number_of_examples / (1.0 * n)) \n",
    "# 1.0 above is to skip integer division\n",
    "\n",
    "test_labels = []\n",
    "\n",
    "for i in range(0,int(number_of_generator_calls)):\n",
    "    test_labels.extend(np.array(test_batches[i][1]))"
   ]
  },
  {
   "cell_type": "code",
   "execution_count": 21,
   "metadata": {},
   "outputs": [
    {
     "name": "stdout",
     "output_type": "stream",
     "text": [
      "[2023-09-15 22:23:29,125: INFO: common: yaml fileconfig/config.yamlloaded Successfully]\n",
      "[2023-09-15 22:23:29,128: INFO: common: yaml fileparams.yamlloaded Successfully]\n",
      "[2023-09-15 22:23:29,128: INFO: common: created directory at:artifacts]\n",
      "Found 150 images belonging to 5 classes.\n"
     ]
    },
    {
     "ename": "ValueError",
     "evalue": "Asked to retrieve element 10, but the Sequence has length 10",
     "output_type": "error",
     "traceback": [
      "\u001b[0;31m---------------------------------------------------------------------------\u001b[0m",
      "\u001b[0;31mValueError\u001b[0m                                Traceback (most recent call last)",
      "\u001b[1;32m/home/megh/AI/Projects/Grapevine_Leaf_Classification/research/05_model_evaluation.ipynb Cell 19\u001b[0m line \u001b[0;36m9\n\u001b[1;32m      <a href='vscode-notebook-cell:/home/megh/AI/Projects/Grapevine_Leaf_Classification/research/05_model_evaluation.ipynb#X23sZmlsZQ%3D%3D?line=5'>6</a>\u001b[0m     evaluation\u001b[39m.\u001b[39msave_score()\n\u001b[1;32m      <a href='vscode-notebook-cell:/home/megh/AI/Projects/Grapevine_Leaf_Classification/research/05_model_evaluation.ipynb#X23sZmlsZQ%3D%3D?line=7'>8</a>\u001b[0m \u001b[39mexcept\u001b[39;00m \u001b[39mException\u001b[39;00m \u001b[39mas\u001b[39;00m e:\n\u001b[0;32m----> <a href='vscode-notebook-cell:/home/megh/AI/Projects/Grapevine_Leaf_Classification/research/05_model_evaluation.ipynb#X23sZmlsZQ%3D%3D?line=8'>9</a>\u001b[0m    \u001b[39mraise\u001b[39;00m e\n",
      "\u001b[1;32m/home/megh/AI/Projects/Grapevine_Leaf_Classification/research/05_model_evaluation.ipynb Cell 19\u001b[0m line \u001b[0;36m5\n\u001b[1;32m      <a href='vscode-notebook-cell:/home/megh/AI/Projects/Grapevine_Leaf_Classification/research/05_model_evaluation.ipynb#X23sZmlsZQ%3D%3D?line=2'>3</a>\u001b[0m     val_config \u001b[39m=\u001b[39m config\u001b[39m.\u001b[39mget_validation_config()\n\u001b[1;32m      <a href='vscode-notebook-cell:/home/megh/AI/Projects/Grapevine_Leaf_Classification/research/05_model_evaluation.ipynb#X23sZmlsZQ%3D%3D?line=3'>4</a>\u001b[0m     evaluation \u001b[39m=\u001b[39m Evaluation(val_config)\n\u001b[0;32m----> <a href='vscode-notebook-cell:/home/megh/AI/Projects/Grapevine_Leaf_Classification/research/05_model_evaluation.ipynb#X23sZmlsZQ%3D%3D?line=4'>5</a>\u001b[0m     evaluation\u001b[39m.\u001b[39;49mevaluation()\n\u001b[1;32m      <a href='vscode-notebook-cell:/home/megh/AI/Projects/Grapevine_Leaf_Classification/research/05_model_evaluation.ipynb#X23sZmlsZQ%3D%3D?line=5'>6</a>\u001b[0m     evaluation\u001b[39m.\u001b[39msave_score()\n\u001b[1;32m      <a href='vscode-notebook-cell:/home/megh/AI/Projects/Grapevine_Leaf_Classification/research/05_model_evaluation.ipynb#X23sZmlsZQ%3D%3D?line=7'>8</a>\u001b[0m \u001b[39mexcept\u001b[39;00m \u001b[39mException\u001b[39;00m \u001b[39mas\u001b[39;00m e:\n",
      "\u001b[1;32m/home/megh/AI/Projects/Grapevine_Leaf_Classification/research/05_model_evaluation.ipynb Cell 19\u001b[0m line \u001b[0;36m4\n\u001b[1;32m     <a href='vscode-notebook-cell:/home/megh/AI/Projects/Grapevine_Leaf_Classification/research/05_model_evaluation.ipynb#X23sZmlsZQ%3D%3D?line=44'>45</a>\u001b[0m \u001b[39mdef\u001b[39;00m \u001b[39mevaluation\u001b[39m(\u001b[39mself\u001b[39m):\n\u001b[1;32m     <a href='vscode-notebook-cell:/home/megh/AI/Projects/Grapevine_Leaf_Classification/research/05_model_evaluation.ipynb#X23sZmlsZQ%3D%3D?line=45'>46</a>\u001b[0m     \u001b[39mself\u001b[39m\u001b[39m.\u001b[39mmodel \u001b[39m=\u001b[39m \u001b[39mself\u001b[39m\u001b[39m.\u001b[39mload_model(\u001b[39mself\u001b[39m\u001b[39m.\u001b[39mconfig\u001b[39m.\u001b[39mpath_of_model)\n\u001b[0;32m---> <a href='vscode-notebook-cell:/home/megh/AI/Projects/Grapevine_Leaf_Classification/research/05_model_evaluation.ipynb#X23sZmlsZQ%3D%3D?line=46'>47</a>\u001b[0m     \u001b[39mself\u001b[39;49m\u001b[39m.\u001b[39;49m_valid_generator()\n\u001b[1;32m     <a href='vscode-notebook-cell:/home/megh/AI/Projects/Grapevine_Leaf_Classification/research/05_model_evaluation.ipynb#X23sZmlsZQ%3D%3D?line=47'>48</a>\u001b[0m     \u001b[39mself\u001b[39m\u001b[39m.\u001b[39mscore \u001b[39m=\u001b[39m model\u001b[39m.\u001b[39mevaluate(\u001b[39mself\u001b[39m\u001b[39m.\u001b[39mvalid_generator)\n",
      "\u001b[1;32m/home/megh/AI/Projects/Grapevine_Leaf_Classification/research/05_model_evaluation.ipynb Cell 19\u001b[0m line \u001b[0;36m3\n\u001b[1;32m     <a href='vscode-notebook-cell:/home/megh/AI/Projects/Grapevine_Leaf_Classification/research/05_model_evaluation.ipynb#X23sZmlsZQ%3D%3D?line=33'>34</a>\u001b[0m number_of_examples \u001b[39m=\u001b[39m \u001b[39mlen\u001b[39m(\u001b[39mself\u001b[39m\u001b[39m.\u001b[39mvalid_generator\u001b[39m.\u001b[39mfilenames)\n\u001b[1;32m     <a href='vscode-notebook-cell:/home/megh/AI/Projects/Grapevine_Leaf_Classification/research/05_model_evaluation.ipynb#X23sZmlsZQ%3D%3D?line=35'>36</a>\u001b[0m \u001b[39mfor\u001b[39;00m i \u001b[39min\u001b[39;00m \u001b[39mrange\u001b[39m(\u001b[39m0\u001b[39m,\u001b[39mint\u001b[39m(number_of_examples)):\n\u001b[0;32m---> <a href='vscode-notebook-cell:/home/megh/AI/Projects/Grapevine_Leaf_Classification/research/05_model_evaluation.ipynb#X23sZmlsZQ%3D%3D?line=36'>37</a>\u001b[0m     \u001b[39mself\u001b[39m\u001b[39m.\u001b[39mtest_labels\u001b[39m.\u001b[39mextend(np\u001b[39m.\u001b[39marray(\u001b[39mself\u001b[39;49m\u001b[39m.\u001b[39;49mvalid_generator[i][\u001b[39m1\u001b[39m]))\n",
      "File \u001b[0;32m~/AI/Projects/Grapevine_Leaf_Classification/cnncls/lib/python3.8/site-packages/keras/src/preprocessing/image.py:103\u001b[0m, in \u001b[0;36mIterator.__getitem__\u001b[0;34m(self, idx)\u001b[0m\n\u001b[1;32m    101\u001b[0m \u001b[39mdef\u001b[39;00m \u001b[39m__getitem__\u001b[39m(\u001b[39mself\u001b[39m, idx):\n\u001b[1;32m    102\u001b[0m     \u001b[39mif\u001b[39;00m idx \u001b[39m>\u001b[39m\u001b[39m=\u001b[39m \u001b[39mlen\u001b[39m(\u001b[39mself\u001b[39m):\n\u001b[0;32m--> 103\u001b[0m         \u001b[39mraise\u001b[39;00m \u001b[39mValueError\u001b[39;00m(\n\u001b[1;32m    104\u001b[0m             \u001b[39m\"\u001b[39m\u001b[39mAsked to retrieve element \u001b[39m\u001b[39m{idx}\u001b[39;00m\u001b[39m, \u001b[39m\u001b[39m\"\u001b[39m\n\u001b[1;32m    105\u001b[0m             \u001b[39m\"\u001b[39m\u001b[39mbut the Sequence \u001b[39m\u001b[39m\"\u001b[39m\n\u001b[1;32m    106\u001b[0m             \u001b[39m\"\u001b[39m\u001b[39mhas length \u001b[39m\u001b[39m{length}\u001b[39;00m\u001b[39m\"\u001b[39m\u001b[39m.\u001b[39mformat(idx\u001b[39m=\u001b[39midx, length\u001b[39m=\u001b[39m\u001b[39mlen\u001b[39m(\u001b[39mself\u001b[39m))\n\u001b[1;32m    107\u001b[0m         )\n\u001b[1;32m    108\u001b[0m     \u001b[39mif\u001b[39;00m \u001b[39mself\u001b[39m\u001b[39m.\u001b[39mseed \u001b[39mis\u001b[39;00m \u001b[39mnot\u001b[39;00m \u001b[39mNone\u001b[39;00m:\n\u001b[1;32m    109\u001b[0m         np\u001b[39m.\u001b[39mrandom\u001b[39m.\u001b[39mseed(\u001b[39mself\u001b[39m\u001b[39m.\u001b[39mseed \u001b[39m+\u001b[39m \u001b[39mself\u001b[39m\u001b[39m.\u001b[39mtotal_batches_seen)\n",
      "\u001b[0;31mValueError\u001b[0m: Asked to retrieve element 10, but the Sequence has length 10"
     ]
    }
   ],
   "source": [
    "try:\n",
    "    config = ConfigurationManager()\n",
    "    val_config = config.get_validation_config()\n",
    "    evaluation = Evaluation(val_config)\n",
    "    evaluation.evaluation()\n",
    "    evaluation.save_score()\n",
    "\n",
    "except Exception as e:\n",
    "   raise e"
   ]
  },
  {
   "cell_type": "code",
   "execution_count": null,
   "metadata": {},
   "outputs": [],
   "source": []
  }
 ],
 "metadata": {
  "kernelspec": {
   "display_name": "cnncls",
   "language": "python",
   "name": "python3"
  },
  "language_info": {
   "codemirror_mode": {
    "name": "ipython",
    "version": 3
   },
   "file_extension": ".py",
   "mimetype": "text/x-python",
   "name": "python",
   "nbconvert_exporter": "python",
   "pygments_lexer": "ipython3",
   "version": "3.8.17"
  },
  "orig_nbformat": 4
 },
 "nbformat": 4,
 "nbformat_minor": 2
}
